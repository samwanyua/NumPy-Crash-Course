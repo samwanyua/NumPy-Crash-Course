{
 "cells": [
  {
   "cell_type": "code",
   "execution_count": 5,
   "metadata": {},
   "outputs": [],
   "source": [
    "import numpy as np"
   ]
  },
  {
   "cell_type": "code",
   "execution_count": 6,
   "metadata": {},
   "outputs": [
    {
     "data": {
      "text/plain": [
       "'2.1.2'"
      ]
     },
     "execution_count": 6,
     "metadata": {},
     "output_type": "execute_result"
    }
   ],
   "source": [
    "np.__version__"
   ]
  },
  {
   "cell_type": "code",
   "execution_count": 15,
   "metadata": {},
   "outputs": [
    {
     "name": "stdout",
     "output_type": "stream",
     "text": [
      "(3,)\n",
      "[1 2 3]\n",
      "int64\n",
      "1\n",
      "3\n",
      "8\n",
      "3\n",
      "[ 1  2 21]\n",
      "[  3   8 105]\n"
     ]
    }
   ],
   "source": [
    "# 1D array\n",
    "a = np.array([1,2,3])\n",
    "print(a.shape)\n",
    "print(a)\n",
    "print(a.dtype) # data type\n",
    "print(a.ndim) # no. of dimensions\n",
    "print(a.size)\n",
    "print(a.itemsize) # returns size in bytes\n",
    "print(a[2])\n",
    "a[2] = 21\n",
    "print(a)\n",
    "b = a * np.array([3,4,5])\n",
    "print(b)"
   ]
  },
  {
   "cell_type": "code",
   "execution_count": 22,
   "metadata": {},
   "outputs": [
    {
     "name": "stdout",
     "output_type": "stream",
     "text": [
      "[23, 34, 45, 34]\n",
      "[23 34 45]\n",
      "[1123  234  155]\n"
     ]
    }
   ],
   "source": [
    "# python lists and arrays\n",
    "list = [23,34,45]\n",
    "np_array = np.array([23, 34,45])\n",
    "list.append(34)\n",
    "print(list)\n",
    "\n",
    "print(np_array)\n",
    "np_array = np_array + np.array([100]) # adds 100 to each value\n",
    "np_array =  np_array + np.array([1000, 100, 10]) # have arrays of equal size and shape\n",
    "print(np_array)"
   ]
  },
  {
   "cell_type": "code",
   "execution_count": 24,
   "metadata": {},
   "outputs": [
    {
     "data": {
      "text/plain": [
       "array([33.51119216, 15.29705854, 12.4498996 ])"
      ]
     },
     "execution_count": 24,
     "metadata": {},
     "output_type": "execute_result"
    }
   ],
   "source": [
    "np.square(list)\n",
    "np.sqrt(np_array)"
   ]
  },
  {
   "cell_type": "code",
   "execution_count": 26,
   "metadata": {},
   "outputs": [
    {
     "data": {
      "text/plain": [
       "array([3.13549422, 3.52636052, 3.80666249, 3.52636052])"
      ]
     },
     "execution_count": 26,
     "metadata": {},
     "output_type": "execute_result"
    }
   ],
   "source": [
    "np.log(list)"
   ]
  },
  {
   "cell_type": "code",
   "execution_count": 27,
   "metadata": {},
   "outputs": [
    {
     "name": "stdout",
     "output_type": "stream",
     "text": [
      "32\n"
     ]
    }
   ],
   "source": [
    "# dot product\n",
    "l1 = [1,2,3]\n",
    "l2 = [4,5,6]\n",
    "\n",
    "dot = 0\n",
    "for i in range(len(l1)):\n",
    "    dot += l1[i] * l2[i]\n",
    "print(dot)"
   ]
  },
  {
   "cell_type": "code",
   "execution_count": 29,
   "metadata": {},
   "outputs": [
    {
     "data": {
      "text/plain": [
       "np.int64(32)"
      ]
     },
     "execution_count": 29,
     "metadata": {},
     "output_type": "execute_result"
    }
   ],
   "source": [
    "# dot product in numpy\n",
    "a1 = np.array(l1)\n",
    "a2 = np.array(l2)\n",
    "dot = np.dot(a1, a2)\n",
    "dot"
   ]
  },
  {
   "cell_type": "code",
   "execution_count": 30,
   "metadata": {},
   "outputs": [
    {
     "data": {
      "text/plain": [
       "np.int64(32)"
      ]
     },
     "execution_count": 30,
     "metadata": {},
     "output_type": "execute_result"
    }
   ],
   "source": [
    "# alternatively\n",
    "dot = a1 * a2\n",
    "dot = np.sum(dot)\n",
    "dot"
   ]
  },
  {
   "cell_type": "code",
   "execution_count": null,
   "metadata": {},
   "outputs": [],
   "source": []
  }
 ],
 "metadata": {
  "kernelspec": {
   "display_name": "env",
   "language": "python",
   "name": "python3"
  },
  "language_info": {
   "codemirror_mode": {
    "name": "ipython",
    "version": 3
   },
   "file_extension": ".py",
   "mimetype": "text/x-python",
   "name": "python",
   "nbconvert_exporter": "python",
   "pygments_lexer": "ipython3",
   "version": "3.11.4"
  }
 },
 "nbformat": 4,
 "nbformat_minor": 2
}
